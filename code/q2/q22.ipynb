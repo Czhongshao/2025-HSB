{
 "cells": [
  {
   "cell_type": "code",
   "execution_count": 2,
   "metadata": {},
   "outputs": [
    {
     "name": "stdout",
     "output_type": "stream",
     "text": [
      "                            OLS Regression Results                            \n",
      "==============================================================================\n",
      "Dep. Variable:                    GDP   R-squared:                       1.000\n",
      "Model:                            OLS   Adj. R-squared:                    nan\n",
      "Method:                 Least Squares   F-statistic:                       nan\n",
      "Date:                Sat, 11 Jan 2025   Prob (F-statistic):                nan\n",
      "Time:                        23:12:42   Log-Likelihood:                 310.99\n",
      "No. Observations:                   9   AIC:                            -604.0\n",
      "Df Residuals:                       0   BIC:                            -602.2\n",
      "Df Model:                           8                                         \n",
      "Covariance Type:            nonrobust                                         \n",
      "==================================================================================================================\n",
      "                                                     coef    std err          t      P>|t|      [0.025      0.975]\n",
      "------------------------------------------------------------------------------------------------------------------\n",
      "const                                             -0.0049        inf         -0        nan         nan         nan\n",
      "Farming_Forestry_Livestock_and_Fishing             0.1208        inf          0        nan         nan         nan\n",
      "Industry                                           0.2698        inf          0        nan         nan         nan\n",
      "Construction                                       0.1568        inf          0        nan         nan         nan\n",
      "Wholesale_and_Retail_Trade                         0.1144        inf          0        nan         nan         nan\n",
      "Transportation_Warehousing_and_Postal_Services     0.0998        inf          0        nan         nan         nan\n",
      "Accommodation_and_Catering                        -0.0145        inf         -0        nan         nan         nan\n",
      "Finance                                            0.0529        inf          0        nan         nan         nan\n",
      "Real_Estate                                        0.0500        inf          0        nan         nan         nan\n",
      "Others                                             0.2064        inf          0        nan         nan         nan\n",
      "==============================================================================\n",
      "Omnibus:                        0.519   Durbin-Watson:                   0.045\n",
      "Prob(Omnibus):                  0.771   Jarque-Bera (JB):                0.501\n",
      "Skew:                           0.408   Prob(JB):                        0.778\n",
      "Kurtosis:                       2.180   Cond. No.                         424.\n",
      "==============================================================================\n",
      "\n",
      "Notes:\n",
      "[1] Standard Errors assume that the covariance matrix of the errors is correctly specified.\n",
      "[2] The input rank is higher than the number of observations.\n",
      "\n",
      "Industry Coefficients (β values):\n",
      "const                                            -0.004911\n",
      "Farming_Forestry_Livestock_and_Fishing            0.120786\n",
      "Industry                                          0.269796\n",
      "Construction                                      0.156807\n",
      "Wholesale_and_Retail_Trade                        0.114377\n",
      "Transportation_Warehousing_and_Postal_Services    0.099847\n",
      "Accommodation_and_Catering                       -0.014516\n",
      "Finance                                           0.052910\n",
      "Real_Estate                                       0.049996\n",
      "Others                                            0.206391\n",
      "dtype: float64\n"
     ]
    },
    {
     "name": "stderr",
     "output_type": "stream",
     "text": [
      "e:\\python\\environment\\envs\\sklearn-3.10.6\\lib\\site-packages\\scipy\\stats\\_axis_nan_policy.py:418: UserWarning: `kurtosistest` p-value may be inaccurate with fewer than 20 observations; only n=9 observations were given.\n",
      "  return hypotest_fun_in(*args, **kwds)\n",
      "e:\\python\\environment\\envs\\sklearn-3.10.6\\lib\\site-packages\\statsmodels\\regression\\linear_model.py:1795: RuntimeWarning: divide by zero encountered in divide\n",
      "  return 1 - (np.divide(self.nobs - self.k_constant, self.df_resid)\n",
      "e:\\python\\environment\\envs\\sklearn-3.10.6\\lib\\site-packages\\statsmodels\\regression\\linear_model.py:1795: RuntimeWarning: invalid value encountered in scalar multiply\n",
      "  return 1 - (np.divide(self.nobs - self.k_constant, self.df_resid)\n",
      "e:\\python\\environment\\envs\\sklearn-3.10.6\\lib\\site-packages\\statsmodels\\regression\\linear_model.py:1717: RuntimeWarning: divide by zero encountered in scalar divide\n",
      "  return np.dot(wresid, wresid) / self.df_resid\n"
     ]
    }
   ],
   "source": [
    "import pandas as pd\n",
    "import statsmodels.api as sm\n",
    "\n",
    "# 加载数据\n",
    "df = pd.read_excel('../../data/近十年各行业生产总值数据-en.xlsx', sheet_name='Sheet1')\n",
    "\n",
    "# 选择需要的列，假设包含\"Years\"、\"GDP\" 和各行业列\n",
    "columns_to_analyze = ['GDP', 'Farming_Forestry_Livestock_and_Fishing', 'Industry', \n",
    "                      'Construction', 'Wholesale_and_Retail_Trade', \n",
    "                      'Transportation_Warehousing_and_Postal_Services', \n",
    "                      'Accommodation_and_Catering', 'Finance', \n",
    "                      'Real_Estate', 'Others']\n",
    "data = df[columns_to_analyze]\n",
    "\n",
    "# 计算增长率\n",
    "data_growth = data.pct_change().dropna()\n",
    "\n",
    "# 设置因变量（总GDP增长率）和自变量（各行业增长率）\n",
    "X = data_growth.drop(columns=['GDP'])\n",
    "y = data_growth['GDP']\n",
    "\n",
    "# 添加常数项\n",
    "X = sm.add_constant(X)\n",
    "\n",
    "# 回归模型\n",
    "model = sm.OLS(y, X).fit()\n",
    "\n",
    "# 输出结果\n",
    "print(model.summary())\n",
    "\n",
    "# 获取各行业的β值\n",
    "industry_coefficients = model.params\n",
    "print(\"\\nIndustry Coefficients (β values):\")\n",
    "print(industry_coefficients)\n"
   ]
  },
  {
   "cell_type": "code",
   "execution_count": null,
   "metadata": {},
   "outputs": [],
   "source": []
  }
 ],
 "metadata": {
  "kernelspec": {
   "display_name": "sklearn-3.10.6",
   "language": "python",
   "name": "sklearn-3.10.6"
  },
  "language_info": {
   "codemirror_mode": {
    "name": "ipython",
    "version": 3
   },
   "file_extension": ".py",
   "mimetype": "text/x-python",
   "name": "python",
   "nbconvert_exporter": "python",
   "pygments_lexer": "ipython3",
   "version": "3.10.6"
  }
 },
 "nbformat": 4,
 "nbformat_minor": 2
}
